{
 "cells": [
  {
   "cell_type": "markdown",
   "metadata": {},
   "source": [
    "#### Let's create a curated dataset from the WinoBias dataset"
   ]
  },
  {
   "cell_type": "code",
   "execution_count": 17,
   "metadata": {},
   "outputs": [
    {
     "name": "stdout",
     "output_type": "stream",
     "text": [
      "['driver', 'supervisor', 'janitor', 'cook', 'mover', 'laborer', 'construction worker', 'chief', 'developer', 'carpenter', 'manager', 'lawyer', 'farmer', 'salesperson', 'physician', 'guard', 'analyst', 'mechanic', 'sheriff', 'CEO']\n",
      "['attendant', 'cashier', 'teacher', 'nurse', 'assistant', 'secretary', 'auditor', 'cleaner', 'receptionist', 'clerk', 'counselor', 'designer', 'hairdresser', 'writer', 'housekeeper', 'baker', 'accountant', 'editor', 'librarian', 'tailor']\n"
     ]
    }
   ],
   "source": [
    "\"\"\"\n",
    "    Here, we will have the occupations that are available in the dataset\n",
    "\"\"\"\n",
    "\n",
    "male_path: str = \"../misc/corefBias/WinoBias/wino/data/male_occupations.txt\"\n",
    "female_path: str = \"../misc/corefBias/WinoBias/wino/data/female_occupations.txt\"\n",
    "\n",
    "def text_to_list(path: str) -> list:\n",
    "    with open(path, 'r') as f:\n",
    "        data = f.read().splitlines()\n",
    "        print(data)\n",
    "        return data\n",
    "    \n",
    "male_occupations = text_to_list(male_path)\n",
    "female_occupations = text_to_list(female_path)"
   ]
  },
  {
   "cell_type": "code",
   "execution_count": 25,
   "metadata": {},
   "outputs": [
    {
     "name": "stdout",
     "output_type": "stream",
     "text": [
      "The new dataset has been created and saved as:  anti_stereotyped_type1.dev.json\n",
      "The new dataset has been created and saved as:  anti_stereotyped_type1.test.json\n",
      "The new dataset has been created and saved as:  anti_stereotyped_type2.dev.json\n",
      "The new dataset has been created and saved as:  anti_stereotyped_type2.test.json\n",
      "The new dataset has been created and saved as:  pro_stereotyped_type1.dev.json\n",
      "The new dataset has been created and saved as:  pro_stereotyped_type1.test.json\n",
      "The new dataset has been created and saved as:  pro_stereotyped_type2.test.json\n",
      "The new dataset has been created and saved as:  pro_stereotyped_type2.dev.json\n"
     ]
    }
   ],
   "source": [
    "import json\n",
    "pronounse = [\"he\", \"she\", \"his\", \"her\", \"him\", \"hers\", \"himself\", \"herself\"]\n",
    "\n",
    "\n",
    "def get_the_context(text: str):\n",
    "    \"\"\"\n",
    "    Formats the sentence along with the label in the following way:\n",
    "        - Sentence\n",
    "        - Occupation\n",
    "        - Pronoun\n",
    "        - Label\n",
    "    \"\"\"\n",
    "    sentence = text.split(\"\\t\")[1]\n",
    "    label = text.split(\"\\t\")[2]\n",
    "    occupation = sentence.split(\"[\")[1].split(\"]\")[0]\n",
    "    # print(\"Occupation: \", occupation)\n",
    "    try:\n",
    "        occupation_coding = \"female-coded\" if occupation.split(\" \")[1].lower() in female_occupations else \"male-coded\"\n",
    "    except:\n",
    "        occupation_coding = \"female-coded\" if occupation.split(\" \")[0].lower() in female_occupations else \"male-coded\"\n",
    "    pronoun = sentence.split(\"[\")[2].split(\"]\")[0]\n",
    "    # print(\"Occupation Coding: \", occupation_coding)\n",
    "    return sentence, occupation, pronoun, label, occupation_coding\n",
    "\n",
    "\n",
    "def create_the_dataset(file_name: str):\n",
    "    \"\"\"\n",
    "    The WinoBias dataset contains the following\n",
    "    columns:\n",
    "        - index\n",
    "        - sentence\n",
    "        - label\n",
    "    \"\"\"\n",
    "    data_dir = \"../data/WinoBias/new/TSV/\"\n",
    "    with open(data_dir + file_name, \"r\") as f:\n",
    "        lines = f.readlines()\n",
    "        new_data = []\n",
    "        for line in lines:\n",
    "            sentence, occupation, pronoun, label, occupation_coding = get_the_context(line)\n",
    "            example = {\n",
    "                \"sentence\": sentence,\n",
    "                \"occupation\": occupation,\n",
    "                \"occupation_coding\": occupation_coding,\n",
    "                \"pronoun\": pronoun,\n",
    "                \"label\": int(label)\n",
    "            }\n",
    "            new_data.append(example)\n",
    "\n",
    "    new_file_name = file_name.split(\n",
    "        \".\")[0] + \".\" + file_name.split(\".\")[1] + \".json\"\n",
    "    new_data = {\"data\": new_data}\n",
    "    data_dir = \"../data/WinoBias/new/JSON/\"\n",
    "    with open(data_dir + new_file_name, \"w\") as f:\n",
    "        json.dump(new_data, f)\n",
    "    print(\"The new dataset has been created and saved as: \", new_file_name)\n",
    "\n",
    "\n",
    "file_names = [\"anti_stereotyped_type1.dev.tsv\", \"anti_stereotyped_type1.test.tsv\", \"anti_stereotyped_type2.dev.tsv\", \"anti_stereotyped_type2.test.tsv\",\n",
    "              \"pro_stereotyped_type1.dev.tsv\", \"pro_stereotyped_type1.test.tsv\", \"pro_stereotyped_type2.test.tsv\", \"pro_stereotyped_type2.dev.tsv\"]\n",
    "\n",
    "def run():\n",
    "    for file_name in file_names:\n",
    "        create_the_dataset(file_name)\n",
    "\n",
    "run()"
   ]
  },
  {
   "cell_type": "code",
   "execution_count": null,
   "metadata": {},
   "outputs": [],
   "source": []
  },
  {
   "cell_type": "code",
   "execution_count": null,
   "metadata": {},
   "outputs": [],
   "source": []
  }
 ],
 "metadata": {
  "kernelspec": {
   "display_name": "AI",
   "language": "python",
   "name": "python3"
  },
  "language_info": {
   "codemirror_mode": {
    "name": "ipython",
    "version": 3
   },
   "file_extension": ".py",
   "mimetype": "text/x-python",
   "name": "python",
   "nbconvert_exporter": "python",
   "pygments_lexer": "ipython3",
   "version": "3.10.15"
  }
 },
 "nbformat": 4,
 "nbformat_minor": 2
}
