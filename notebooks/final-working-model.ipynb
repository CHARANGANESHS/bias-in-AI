{
 "cells": [
  {
   "cell_type": "code",
   "execution_count": 2,
   "metadata": {},
   "outputs": [
    {
     "name": "stderr",
     "output_type": "stream",
     "text": [
      "/Users/charanganesh/miniforge3/envs/AI/lib/python3.10/site-packages/tqdm/auto.py:21: TqdmWarning: IProgress not found. Please update jupyter and ipywidgets. See https://ipywidgets.readthedocs.io/en/stable/user_install.html\n",
      "  from .autonotebook import tqdm as notebook_tqdm\n"
     ]
    }
   ],
   "source": [
    "import torch\n",
    "from torch.utils.data import Dataset\n",
    "import numpy as np\n",
    "from datasets import load_dataset\n",
    "import re\n",
    "import random\n",
    "from transformers import (\n",
    "    T5Tokenizer,\n",
    "    T5ForConditionalGeneration,\n",
    "    Seq2SeqTrainer,\n",
    "    Seq2SeqTrainingArguments,\n",
    "    DataCollatorForSeq2Seq\n",
    ")\n",
    "import evaluate # ! pip install evaluate rogue_score"
   ]
  },
  {
   "cell_type": "code",
   "execution_count": 3,
   "metadata": {},
   "outputs": [],
   "source": [
    "dataset = load_dataset(\"LabHC/bias_in_bios\", split='train[:20%]')\n",
    "test_dataset = load_dataset(\"LabHC/bias_in_bios\", split='test')\n",
    "dev_dataset = load_dataset(\"LabHC/bias_in_bios\", split='dev')"
   ]
  },
  {
   "cell_type": "code",
   "execution_count": 4,
   "metadata": {},
   "outputs": [],
   "source": [
    "def neutralize_text(text: str) -> str:\n",
    "    \"\"\"Convert gendered pronouns to neutral forms\"\"\"\n",
    "    replacements = [\n",
    "        (r'\\b([Hh]e|[Ss]he)\\s+is\\b', lambda m: \"They are\" if m.group(1)[0].isupper() else \"they are\"),\n",
    "        (r'\\b([Hh]e|[Ss]he)\\s+was\\b', lambda m: \"They were\" if m.group(1)[0].isupper() else \"they were\"),\n",
    "        (r'\\b([Hh]e|[Ss]he)\\s+has\\b', lambda m: \"They have\" if m.group(1)[0].isupper() else \"they have\"),\n",
    "        (r'\\b([Hh]e|[Ss]he)\\b', lambda m: \"They\" if m.group(1)[0].isupper() else \"they\"),\n",
    "        (r'\\b([Hh]is|[Hh]er)\\b', lambda m: \"Their\" if m.group(1)[0].isupper() else \"their\"),\n",
    "        (r'\\b([Hh]im|[Hh]er)\\b', lambda m: \"Them\" if m.group(1)[0].isupper() else \"them\"),\n",
    "        (r'\\b([Hh]imself|[Hh]erself)\\b', lambda m: \"Themselves\" if m.group(1)[0].isupper() else \"themselves\")\n",
    "    ]\n",
    "    for pattern, repl in replacements:\n",
    "        text = re.sub(pattern, repl, text)\n",
    "    return text"
   ]
  },
  {
   "cell_type": "code",
   "execution_count": 5,
   "metadata": {},
   "outputs": [],
   "source": [
    "max_num_of_pairs: int = 5000\n",
    "neutral_pairs = []\n",
    "for i in range(min(max_num_of_pairs, len(dataset))):\n",
    "    original = dataset[i][\"hard_text\"]\n",
    "    neutral = neutralize_text(original)\n",
    "    neutral_pairs.append((original, neutral))"
   ]
  },
  {
   "cell_type": "code",
   "execution_count": 6,
   "metadata": {},
   "outputs": [],
   "source": [
    "random.shuffle(neutral_pairs)\n",
    "train_size = int(0.8 * len(neutral_pairs))\n",
    "train_data = neutral_pairs[:train_size]\n",
    "val_data = neutral_pairs[train_size:]"
   ]
  },
  {
   "cell_type": "code",
   "execution_count": 7,
   "metadata": {},
   "outputs": [],
   "source": [
    "MODEL_NAME = \"t5-small\"\n",
    "TASK_PREFIX = \"neutralize: \"\n",
    "MAX_LENGTH = 64\n",
    "BATCH_SIZE = 32\n",
    "EPOCHS = 2"
   ]
  },
  {
   "cell_type": "code",
   "execution_count": 8,
   "metadata": {},
   "outputs": [],
   "source": [
    "class NeutralizationDataset(Dataset):\n",
    "    def __init__(self, pairs, tokenizer):\n",
    "        self.pairs = pairs\n",
    "        self.tokenizer = tokenizer\n",
    "\n",
    "    def __len__(self):\n",
    "        return len(self.pairs)\n",
    "\n",
    "    def __getitem__(self, idx):\n",
    "        original, neutral = self.pairs[idx]\n",
    "        inputs = self.tokenizer(\n",
    "            TASK_PREFIX + original,\n",
    "            max_length=MAX_LENGTH,\n",
    "            padding=\"max_length\",\n",
    "            truncation=True,\n",
    "            return_tensors=\"pt\"\n",
    "        )\n",
    "        targets = self.tokenizer(\n",
    "            neutral,\n",
    "            max_length=MAX_LENGTH,\n",
    "            padding=\"max_length\",\n",
    "            truncation=True,\n",
    "            return_tensors=\"pt\"\n",
    "        )\n",
    "        return {\n",
    "            \"input_ids\": inputs[\"input_ids\"].squeeze(0),\n",
    "            \"attention_mask\": inputs[\"attention_mask\"].squeeze(0),\n",
    "            \"labels\": targets[\"input_ids\"].squeeze(0).masked_fill(\n",
    "                targets[\"input_ids\"].squeeze(0) == self.tokenizer.pad_token_id, -100\n",
    "            )\n",
    "        }"
   ]
  },
  {
   "cell_type": "code",
   "execution_count": 9,
   "metadata": {},
   "outputs": [
    {
     "name": "stderr",
     "output_type": "stream",
     "text": [
      "You are using the default legacy behaviour of the <class 'transformers.models.t5.tokenization_t5.T5Tokenizer'>. This is expected, and simply means that the `legacy` (previous) behavior will be used so nothing changes for you. If you want to use the new behaviour, set `legacy=False`. This should only be set if you understand what it means, and thoroughly read the reason why this was added as explained in https://github.com/huggingface/transformers/pull/24565\n"
     ]
    }
   ],
   "source": [
    "tokenizer = T5Tokenizer.from_pretrained(MODEL_NAME)\n",
    "model = T5ForConditionalGeneration.from_pretrained(MODEL_NAME)\n",
    "train_dataset = NeutralizationDataset(train_data, tokenizer)\n",
    "val_dataset = NeutralizationDataset(val_data, tokenizer)"
   ]
  },
  {
   "cell_type": "code",
   "execution_count": 10,
   "metadata": {},
   "outputs": [
    {
     "name": "stderr",
     "output_type": "stream",
     "text": [
      "/Users/charanganesh/miniforge3/envs/AI/lib/python3.10/site-packages/transformers/training_args.py:1594: FutureWarning: `evaluation_strategy` is deprecated and will be removed in version 4.46 of 🤗 Transformers. Use `eval_strategy` instead\n",
      "  warnings.warn(\n"
     ]
    }
   ],
   "source": [
    "training_args = Seq2SeqTrainingArguments(\n",
    "    output_dir=\"../models/neutralizer_model\",\n",
    "    num_train_epochs=EPOCHS,\n",
    "    per_device_train_batch_size=BATCH_SIZE,\n",
    "    per_device_eval_batch_size=BATCH_SIZE,\n",
    "    evaluation_strategy=\"epoch\",\n",
    "    save_strategy=\"epoch\",\n",
    "    learning_rate=3e-4,\n",
    "    fp16=torch.cuda.is_available(),\n",
    "    logging_steps=100,\n",
    "    save_total_limit=1,\n",
    "    predict_with_generate=True,\n",
    "    report_to=\"none\" \n",
    ")\n",
    "\n",
    "rouge = evaluate.load(\"rouge\")"
   ]
  },
  {
   "cell_type": "code",
   "execution_count": 11,
   "metadata": {},
   "outputs": [],
   "source": [
    "def compute_metrics(eval_pred):\n",
    "    preds, labels = eval_pred\n",
    "    decoded_preds = tokenizer.batch_decode(preds, skip_special_tokens=True)\n",
    "    labels = np.where(labels != -100, labels, tokenizer.pad_token_id)\n",
    "    decoded_labels = tokenizer.batch_decode(labels, skip_special_tokens=True)\n",
    "    return rouge.compute(predictions=decoded_preds, references=decoded_labels)"
   ]
  },
  {
   "cell_type": "code",
   "execution_count": 12,
   "metadata": {},
   "outputs": [
    {
     "name": "stderr",
     "output_type": "stream",
     "text": [
      "/var/folders/k1/pg7cnkbs3fzdgsq32r3ht2_80000gn/T/ipykernel_96284/1638589105.py:1: FutureWarning: `tokenizer` is deprecated and will be removed in version 5.0.0 for `Seq2SeqTrainer.__init__`. Use `processing_class` instead.\n",
      "  trainer = Seq2SeqTrainer(\n"
     ]
    }
   ],
   "source": [
    "trainer = Seq2SeqTrainer(\n",
    "    model=model,\n",
    "    args=training_args,\n",
    "    train_dataset=train_dataset,\n",
    "    eval_dataset=val_dataset,\n",
    "    tokenizer=tokenizer,\n",
    "    data_collator=DataCollatorForSeq2Seq(tokenizer),\n",
    "    compute_metrics=compute_metrics\n",
    ")"
   ]
  },
  {
   "cell_type": "code",
   "execution_count": 13,
   "metadata": {},
   "outputs": [
    {
     "name": "stdout",
     "output_type": "stream",
     "text": [
      "Training neutralization model...\n"
     ]
    },
    {
     "name": "stderr",
     "output_type": "stream",
     "text": [
      "/Users/charanganesh/miniforge3/envs/AI/lib/python3.10/site-packages/transformers/data/data_collator.py:740: UserWarning: Creating a tensor from a list of numpy.ndarrays is extremely slow. Please consider converting the list to a single numpy.ndarray with numpy.array() before converting to a tensor. (Triggered internally at /Users/runner/work/pytorch/pytorch/pytorch/torch/csrc/utils/tensor_new.cpp:281.)\n",
      "  batch[\"labels\"] = torch.tensor(batch[\"labels\"], dtype=torch.int64)\n",
      "Passing a tuple of `past_key_values` is deprecated and will be removed in Transformers v4.48.0. You should pass an instance of `EncoderDecoderCache` instead, e.g. `past_key_values=EncoderDecoderCache.from_legacy_cache(past_key_values)`.\n"
     ]
    },
    {
     "data": {
      "text/html": [
       "\n",
       "    <div>\n",
       "      \n",
       "      <progress value='250' max='250' style='width:300px; height:20px; vertical-align: middle;'></progress>\n",
       "      [250/250 03:04, Epoch 2/2]\n",
       "    </div>\n",
       "    <table border=\"1\" class=\"dataframe\">\n",
       "  <thead>\n",
       " <tr style=\"text-align: left;\">\n",
       "      <th>Epoch</th>\n",
       "      <th>Training Loss</th>\n",
       "      <th>Validation Loss</th>\n",
       "      <th>Rouge1</th>\n",
       "      <th>Rouge2</th>\n",
       "      <th>Rougel</th>\n",
       "      <th>Rougelsum</th>\n",
       "    </tr>\n",
       "  </thead>\n",
       "  <tbody>\n",
       "    <tr>\n",
       "      <td>1</td>\n",
       "      <td>0.244600</td>\n",
       "      <td>0.164144</td>\n",
       "      <td>0.488161</td>\n",
       "      <td>0.472365</td>\n",
       "      <td>0.488311</td>\n",
       "      <td>0.488388</td>\n",
       "    </tr>\n",
       "    <tr>\n",
       "      <td>2</td>\n",
       "      <td>0.182700</td>\n",
       "      <td>0.159169</td>\n",
       "      <td>0.482502</td>\n",
       "      <td>0.466879</td>\n",
       "      <td>0.482700</td>\n",
       "      <td>0.482864</td>\n",
       "    </tr>\n",
       "  </tbody>\n",
       "</table><p>"
      ],
      "text/plain": [
       "<IPython.core.display.HTML object>"
      ]
     },
     "metadata": {},
     "output_type": "display_data"
    },
    {
     "data": {
      "text/plain": [
       "TrainOutput(global_step=250, training_loss=0.20589958572387695, metrics={'train_runtime': 186.6284, 'train_samples_per_second': 42.866, 'train_steps_per_second': 1.34, 'total_flos': 135341801472000.0, 'train_loss': 0.20589958572387695, 'epoch': 2.0})"
      ]
     },
     "execution_count": 13,
     "metadata": {},
     "output_type": "execute_result"
    }
   ],
   "source": [
    "print(\"Training neutralization model...\")\n",
    "trainer.train()"
   ]
  },
  {
   "cell_type": "code",
   "execution_count": 14,
   "metadata": {},
   "outputs": [
    {
     "data": {
      "text/plain": [
       "('../models/neutralizer_model/tokenizer_config.json',\n",
       " '../models/neutralizer_model/special_tokens_map.json',\n",
       " '../models/neutralizer_model/spiece.model',\n",
       " '../models/neutralizer_model/added_tokens.json')"
      ]
     },
     "execution_count": 14,
     "metadata": {},
     "output_type": "execute_result"
    }
   ],
   "source": [
    "model.save_pretrained(\"../models/neutralizer_model\")\n",
    "tokenizer.save_pretrained(\"../models/neutralizer_model\")"
   ]
  },
  {
   "cell_type": "code",
   "execution_count": 15,
   "metadata": {},
   "outputs": [],
   "source": [
    "def neutralize_sentence(text):\n",
    "    inputs = tokenizer(\n",
    "        TASK_PREFIX + text,\n",
    "        return_tensors=\"pt\",\n",
    "        max_length=MAX_LENGTH,\n",
    "        truncation=True\n",
    "    )\n",
    "    outputs = model.generate(\n",
    "        inputs.input_ids.to(model.device),\n",
    "        attention_mask=inputs.attention_mask.to(model.device),\n",
    "        max_length=MAX_LENGTH,\n",
    "        num_beams=1  \n",
    "    )\n",
    "    return tokenizer.decode(outputs[0], skip_special_tokens=True)"
   ]
  },
  {
   "cell_type": "code",
   "execution_count": 24,
   "metadata": {},
   "outputs": [],
   "source": [
    "test_cases = [\n",
    "    \"He is the project lead of EASy68K.\",\n",
    "    \"She earned her degree from Michigan.\",\n",
    "    \"The doctor told him that he needs to rest.\",\n",
    "    \"The engineer told that he is busy, and she has to reschedule it\"\n",
    "]"
   ]
  },
  {
   "cell_type": "code",
   "execution_count": 25,
   "metadata": {},
   "outputs": [
    {
     "name": "stdout",
     "output_type": "stream",
     "text": [
      "\n",
      "Neutralization Examples:\n",
      "\n",
      "Original: He is the project lead of EASy68K.\n",
      "Neutral: They are the project lead of EASy68K.\n",
      "\n",
      "Original: She earned her degree from Michigan.\n",
      "Neutral: They earned their degree from Michigan.\n",
      "\n",
      "Original: The doctor told him that he needs to rest.\n",
      "Neutral: The doctor told them that they needs to rest.\n",
      "\n",
      "Original: The engineer told that he is busy, and she has to reschedule it\n",
      "Neutral: The engineer told that they are busy, and they have to reschedule it.\n"
     ]
    }
   ],
   "source": [
    "print(\"\\nNeutralization Examples:\")\n",
    "for case in test_cases:\n",
    "    print(f\"\\nOriginal: {case}\")\n",
    "    print(f\"Neutral: {neutralize_sentence(case)}\")"
   ]
  },
  {
   "cell_type": "code",
   "execution_count": null,
   "metadata": {},
   "outputs": [],
   "source": []
  },
  {
   "cell_type": "code",
   "execution_count": null,
   "metadata": {},
   "outputs": [],
   "source": []
  }
 ],
 "metadata": {
  "kernelspec": {
   "display_name": "AI",
   "language": "python",
   "name": "python3"
  },
  "language_info": {
   "codemirror_mode": {
    "name": "ipython",
    "version": 3
   },
   "file_extension": ".py",
   "mimetype": "text/x-python",
   "name": "python",
   "nbconvert_exporter": "python",
   "pygments_lexer": "ipython3",
   "version": "3.10.15"
  }
 },
 "nbformat": 4,
 "nbformat_minor": 2
}
